{
  "nbformat": 4,
  "nbformat_minor": 0,
  "metadata": {
    "colab": {
      "provenance": [],
      "authorship_tag": "ABX9TyNke5lGIbkYYd4ib8nK7mWG",
      "include_colab_link": true
    },
    "kernelspec": {
      "name": "python3",
      "display_name": "Python 3"
    },
    "language_info": {
      "name": "python"
    }
  },
  "cells": [
    {
      "cell_type": "markdown",
      "metadata": {
        "id": "view-in-github",
        "colab_type": "text"
      },
      "source": [
        "<a href=\"https://colab.research.google.com/github/vybraaaxlyntaz207/Tugas-DataMining/blob/main/Tugas_Akhir_DataMining.ipynb\" target=\"_parent\"><img src=\"https://colab.research.google.com/assets/colab-badge.svg\" alt=\"Open In Colab\"/></a>"
      ]
    },
    {
      "cell_type": "code",
      "execution_count": 1,
      "metadata": {
        "id": "ZDpysJHPElOD"
      },
      "outputs": [],
      "source": [
        "import pandas as pd\n",
        "import numpy as np\n",
        "import matplotlib.pyplot as plt\n",
        "import sklearn.metrics as metrics"
      ]
    },
    {
      "cell_type": "code",
      "source": [
        "row_data = pd.read_csv('datalagu.csv')\n",
        "row_data.shape"
      ],
      "metadata": {
        "colab": {
          "base_uri": "https://localhost:8080/"
        },
        "id": "LRvNopKiEsg_",
        "outputId": "c4a74705-6f5d-4a40-a362-24f5bcc44918"
      },
      "execution_count": 2,
      "outputs": [
        {
          "output_type": "execute_result",
          "data": {
            "text/plain": [
              "(1103, 9)"
            ]
          },
          "metadata": {},
          "execution_count": 2
        }
      ]
    },
    {
      "cell_type": "code",
      "source": [
        "row_data.describe"
      ],
      "metadata": {
        "colab": {
          "base_uri": "https://localhost:8080/"
        },
        "id": "707_Ij4hEsl_",
        "outputId": "7ada09aa-f3a4-4b9b-f9dd-71de564f4c5d"
      },
      "execution_count": 3,
      "outputs": [
        {
          "output_type": "execute_result",
          "data": {
            "text/plain": [
              "<bound method NDFrame.describe of         No               Lagu             Artis       Genre  \\\n",
              "0        1    Some Song Title    Awesome Artist        Rock   \n",
              "1        2        Catchy Tune         Cool Band         Pop   \n",
              "2        3     Beats and Bass    Electro Master  Electronic   \n",
              "3        4           Jazz Jam         Jazzy Joe        Jazz   \n",
              "4        5      Country Roads       The Cowboys     Country   \n",
              "...    ...                ...               ...         ...   \n",
              "1098  1099    Underground Rap        Rap Rebels     Hip-hop   \n",
              "1099  1100    Symphonic Metal  Metal Orchestral       Metal   \n",
              "1100  1101      Island Groove      Island Vibes      Reggae   \n",
              "1101  1102     Acoustic Bliss    Harmonious Duo    Acoustic   \n",
              "1102  1103  Trance Expedition   Trance Voyagers      Trance   \n",
              "\n",
              "      Kepekatan_Spektral  Kejernihan_Suara  Energi_Tonalitas  \\\n",
              "0                   0.75              0.85              0.65   \n",
              "1                   0.60              0.90              0.80   \n",
              "2                   0.85              0.70              0.75   \n",
              "3                   0.70              0.80              0.70   \n",
              "4                   0.65              0.75              0.60   \n",
              "...                  ...               ...               ...   \n",
              "1098                0.85              0.70              0.85   \n",
              "1099                0.80              0.75              0.85   \n",
              "1100                0.70              0.75              0.80   \n",
              "1101                0.90              0.95              0.85   \n",
              "1102                0.85              0.85              0.85   \n",
              "\n",
              "      Keseragaman_Irama  Kecepatan_Tempo  \n",
              "0                  0.70              120  \n",
              "1                  0.80              140  \n",
              "2                  0.85              130  \n",
              "3                  0.75              110  \n",
              "4                  0.65              100  \n",
              "...                 ...              ...  \n",
              "1098               0.85               95  \n",
              "1099               0.80              160  \n",
              "1100               0.80               80  \n",
              "1101               0.85               70  \n",
              "1102               0.90              138  \n",
              "\n",
              "[1103 rows x 9 columns]>"
            ]
          },
          "metadata": {},
          "execution_count": 3
        }
      ]
    },
    {
      "cell_type": "code",
      "source": [
        "data = row_data.dropna(axis=0)\n",
        "data.describe()"
      ],
      "metadata": {
        "colab": {
          "base_uri": "https://localhost:8080/",
          "height": 300
        },
        "id": "Bq9h26zFEsrH",
        "outputId": "7758b8ea-a6b8-4b70-e96f-7fe0d97845d8"
      },
      "execution_count": 4,
      "outputs": [
        {
          "output_type": "execute_result",
          "data": {
            "text/plain": [
              "                No  Kepekatan_Spektral  Kejernihan_Suara  Energi_Tonalitas  \\\n",
              "count  1103.000000         1103.000000       1103.000000       1103.000000   \n",
              "mean    552.000000            0.812330          0.821985          0.817090   \n",
              "std     318.552978            0.079798          0.074366          0.069646   \n",
              "min       1.000000            0.600000          0.650000          0.600000   \n",
              "25%     276.500000            0.750000          0.750000          0.800000   \n",
              "50%     552.000000            0.800000          0.850000          0.850000   \n",
              "75%     827.500000            0.900000          0.850000          0.850000   \n",
              "max    1103.000000            0.950000          0.950000          0.950000   \n",
              "\n",
              "       Keseragaman_Irama  Kecepatan_Tempo  \n",
              "count        1103.000000      1103.000000  \n",
              "mean            0.828513       116.648232  \n",
              "std             0.059572        30.942947  \n",
              "min             0.650000        65.000000  \n",
              "25%             0.800000        90.000000  \n",
              "50%             0.850000       110.000000  \n",
              "75%             0.850000       140.000000  \n",
              "max             0.950000       180.000000  "
            ],
            "text/html": [
              "\n",
              "\n",
              "  <div id=\"df-9f922704-6c90-42f0-bc53-d66644ac58b2\">\n",
              "    <div class=\"colab-df-container\">\n",
              "      <div>\n",
              "<style scoped>\n",
              "    .dataframe tbody tr th:only-of-type {\n",
              "        vertical-align: middle;\n",
              "    }\n",
              "\n",
              "    .dataframe tbody tr th {\n",
              "        vertical-align: top;\n",
              "    }\n",
              "\n",
              "    .dataframe thead th {\n",
              "        text-align: right;\n",
              "    }\n",
              "</style>\n",
              "<table border=\"1\" class=\"dataframe\">\n",
              "  <thead>\n",
              "    <tr style=\"text-align: right;\">\n",
              "      <th></th>\n",
              "      <th>No</th>\n",
              "      <th>Kepekatan_Spektral</th>\n",
              "      <th>Kejernihan_Suara</th>\n",
              "      <th>Energi_Tonalitas</th>\n",
              "      <th>Keseragaman_Irama</th>\n",
              "      <th>Kecepatan_Tempo</th>\n",
              "    </tr>\n",
              "  </thead>\n",
              "  <tbody>\n",
              "    <tr>\n",
              "      <th>count</th>\n",
              "      <td>1103.000000</td>\n",
              "      <td>1103.000000</td>\n",
              "      <td>1103.000000</td>\n",
              "      <td>1103.000000</td>\n",
              "      <td>1103.000000</td>\n",
              "      <td>1103.000000</td>\n",
              "    </tr>\n",
              "    <tr>\n",
              "      <th>mean</th>\n",
              "      <td>552.000000</td>\n",
              "      <td>0.812330</td>\n",
              "      <td>0.821985</td>\n",
              "      <td>0.817090</td>\n",
              "      <td>0.828513</td>\n",
              "      <td>116.648232</td>\n",
              "    </tr>\n",
              "    <tr>\n",
              "      <th>std</th>\n",
              "      <td>318.552978</td>\n",
              "      <td>0.079798</td>\n",
              "      <td>0.074366</td>\n",
              "      <td>0.069646</td>\n",
              "      <td>0.059572</td>\n",
              "      <td>30.942947</td>\n",
              "    </tr>\n",
              "    <tr>\n",
              "      <th>min</th>\n",
              "      <td>1.000000</td>\n",
              "      <td>0.600000</td>\n",
              "      <td>0.650000</td>\n",
              "      <td>0.600000</td>\n",
              "      <td>0.650000</td>\n",
              "      <td>65.000000</td>\n",
              "    </tr>\n",
              "    <tr>\n",
              "      <th>25%</th>\n",
              "      <td>276.500000</td>\n",
              "      <td>0.750000</td>\n",
              "      <td>0.750000</td>\n",
              "      <td>0.800000</td>\n",
              "      <td>0.800000</td>\n",
              "      <td>90.000000</td>\n",
              "    </tr>\n",
              "    <tr>\n",
              "      <th>50%</th>\n",
              "      <td>552.000000</td>\n",
              "      <td>0.800000</td>\n",
              "      <td>0.850000</td>\n",
              "      <td>0.850000</td>\n",
              "      <td>0.850000</td>\n",
              "      <td>110.000000</td>\n",
              "    </tr>\n",
              "    <tr>\n",
              "      <th>75%</th>\n",
              "      <td>827.500000</td>\n",
              "      <td>0.900000</td>\n",
              "      <td>0.850000</td>\n",
              "      <td>0.850000</td>\n",
              "      <td>0.850000</td>\n",
              "      <td>140.000000</td>\n",
              "    </tr>\n",
              "    <tr>\n",
              "      <th>max</th>\n",
              "      <td>1103.000000</td>\n",
              "      <td>0.950000</td>\n",
              "      <td>0.950000</td>\n",
              "      <td>0.950000</td>\n",
              "      <td>0.950000</td>\n",
              "      <td>180.000000</td>\n",
              "    </tr>\n",
              "  </tbody>\n",
              "</table>\n",
              "</div>\n",
              "      <button class=\"colab-df-convert\" onclick=\"convertToInteractive('df-9f922704-6c90-42f0-bc53-d66644ac58b2')\"\n",
              "              title=\"Convert this dataframe to an interactive table.\"\n",
              "              style=\"display:none;\">\n",
              "\n",
              "  <svg xmlns=\"http://www.w3.org/2000/svg\" height=\"24px\"viewBox=\"0 0 24 24\"\n",
              "       width=\"24px\">\n",
              "    <path d=\"M0 0h24v24H0V0z\" fill=\"none\"/>\n",
              "    <path d=\"M18.56 5.44l.94 2.06.94-2.06 2.06-.94-2.06-.94-.94-2.06-.94 2.06-2.06.94zm-11 1L8.5 8.5l.94-2.06 2.06-.94-2.06-.94L8.5 2.5l-.94 2.06-2.06.94zm10 10l.94 2.06.94-2.06 2.06-.94-2.06-.94-.94-2.06-.94 2.06-2.06.94z\"/><path d=\"M17.41 7.96l-1.37-1.37c-.4-.4-.92-.59-1.43-.59-.52 0-1.04.2-1.43.59L10.3 9.45l-7.72 7.72c-.78.78-.78 2.05 0 2.83L4 21.41c.39.39.9.59 1.41.59.51 0 1.02-.2 1.41-.59l7.78-7.78 2.81-2.81c.8-.78.8-2.07 0-2.86zM5.41 20L4 18.59l7.72-7.72 1.47 1.35L5.41 20z\"/>\n",
              "  </svg>\n",
              "      </button>\n",
              "\n",
              "\n",
              "\n",
              "    <div id=\"df-a570af7f-11b6-4220-bd2a-68bdb8a68bf1\">\n",
              "      <button class=\"colab-df-quickchart\" onclick=\"quickchart('df-a570af7f-11b6-4220-bd2a-68bdb8a68bf1')\"\n",
              "              title=\"Suggest charts.\"\n",
              "              style=\"display:none;\">\n",
              "\n",
              "<svg xmlns=\"http://www.w3.org/2000/svg\" height=\"24px\"viewBox=\"0 0 24 24\"\n",
              "     width=\"24px\">\n",
              "    <g>\n",
              "        <path d=\"M19 3H5c-1.1 0-2 .9-2 2v14c0 1.1.9 2 2 2h14c1.1 0 2-.9 2-2V5c0-1.1-.9-2-2-2zM9 17H7v-7h2v7zm4 0h-2V7h2v10zm4 0h-2v-4h2v4z\"/>\n",
              "    </g>\n",
              "</svg>\n",
              "      </button>\n",
              "    </div>\n",
              "\n",
              "<style>\n",
              "  .colab-df-quickchart {\n",
              "    background-color: #E8F0FE;\n",
              "    border: none;\n",
              "    border-radius: 50%;\n",
              "    cursor: pointer;\n",
              "    display: none;\n",
              "    fill: #1967D2;\n",
              "    height: 32px;\n",
              "    padding: 0 0 0 0;\n",
              "    width: 32px;\n",
              "  }\n",
              "\n",
              "  .colab-df-quickchart:hover {\n",
              "    background-color: #E2EBFA;\n",
              "    box-shadow: 0px 1px 2px rgba(60, 64, 67, 0.3), 0px 1px 3px 1px rgba(60, 64, 67, 0.15);\n",
              "    fill: #174EA6;\n",
              "  }\n",
              "\n",
              "  [theme=dark] .colab-df-quickchart {\n",
              "    background-color: #3B4455;\n",
              "    fill: #D2E3FC;\n",
              "  }\n",
              "\n",
              "  [theme=dark] .colab-df-quickchart:hover {\n",
              "    background-color: #434B5C;\n",
              "    box-shadow: 0px 1px 3px 1px rgba(0, 0, 0, 0.15);\n",
              "    filter: drop-shadow(0px 1px 2px rgba(0, 0, 0, 0.3));\n",
              "    fill: #FFFFFF;\n",
              "  }\n",
              "</style>\n",
              "\n",
              "    <script>\n",
              "      async function quickchart(key) {\n",
              "        const containerElement = document.querySelector('#' + key);\n",
              "        const charts = await google.colab.kernel.invokeFunction(\n",
              "            'suggestCharts', [key], {});\n",
              "      }\n",
              "    </script>\n",
              "\n",
              "      <script>\n",
              "\n",
              "function displayQuickchartButton(domScope) {\n",
              "  let quickchartButtonEl =\n",
              "    domScope.querySelector('#df-a570af7f-11b6-4220-bd2a-68bdb8a68bf1 button.colab-df-quickchart');\n",
              "  quickchartButtonEl.style.display =\n",
              "    google.colab.kernel.accessAllowed ? 'block' : 'none';\n",
              "}\n",
              "\n",
              "        displayQuickchartButton(document);\n",
              "      </script>\n",
              "      <style>\n",
              "    .colab-df-container {\n",
              "      display:flex;\n",
              "      flex-wrap:wrap;\n",
              "      gap: 12px;\n",
              "    }\n",
              "\n",
              "    .colab-df-convert {\n",
              "      background-color: #E8F0FE;\n",
              "      border: none;\n",
              "      border-radius: 50%;\n",
              "      cursor: pointer;\n",
              "      display: none;\n",
              "      fill: #1967D2;\n",
              "      height: 32px;\n",
              "      padding: 0 0 0 0;\n",
              "      width: 32px;\n",
              "    }\n",
              "\n",
              "    .colab-df-convert:hover {\n",
              "      background-color: #E2EBFA;\n",
              "      box-shadow: 0px 1px 2px rgba(60, 64, 67, 0.3), 0px 1px 3px 1px rgba(60, 64, 67, 0.15);\n",
              "      fill: #174EA6;\n",
              "    }\n",
              "\n",
              "    [theme=dark] .colab-df-convert {\n",
              "      background-color: #3B4455;\n",
              "      fill: #D2E3FC;\n",
              "    }\n",
              "\n",
              "    [theme=dark] .colab-df-convert:hover {\n",
              "      background-color: #434B5C;\n",
              "      box-shadow: 0px 1px 3px 1px rgba(0, 0, 0, 0.15);\n",
              "      filter: drop-shadow(0px 1px 2px rgba(0, 0, 0, 0.3));\n",
              "      fill: #FFFFFF;\n",
              "    }\n",
              "  </style>\n",
              "\n",
              "      <script>\n",
              "        const buttonEl =\n",
              "          document.querySelector('#df-9f922704-6c90-42f0-bc53-d66644ac58b2 button.colab-df-convert');\n",
              "        buttonEl.style.display =\n",
              "          google.colab.kernel.accessAllowed ? 'block' : 'none';\n",
              "\n",
              "        async function convertToInteractive(key) {\n",
              "          const element = document.querySelector('#df-9f922704-6c90-42f0-bc53-d66644ac58b2');\n",
              "          const dataTable =\n",
              "            await google.colab.kernel.invokeFunction('convertToInteractive',\n",
              "                                                     [key], {});\n",
              "          if (!dataTable) return;\n",
              "\n",
              "          const docLinkHtml = 'Like what you see? Visit the ' +\n",
              "            '<a target=\"_blank\" href=https://colab.research.google.com/notebooks/data_table.ipynb>data table notebook</a>'\n",
              "            + ' to learn more about interactive tables.';\n",
              "          element.innerHTML = '';\n",
              "          dataTable['output_type'] = 'display_data';\n",
              "          await google.colab.output.renderOutput(dataTable, element);\n",
              "          const docLink = document.createElement('div');\n",
              "          docLink.innerHTML = docLinkHtml;\n",
              "          element.appendChild(docLink);\n",
              "        }\n",
              "      </script>\n",
              "    </div>\n",
              "  </div>\n"
            ]
          },
          "metadata": {},
          "execution_count": 4
        }
      ]
    },
    {
      "cell_type": "code",
      "source": [
        "  print (row_data.dtypes)"
      ],
      "metadata": {
        "colab": {
          "base_uri": "https://localhost:8080/"
        },
        "id": "gzazbS2EEsvP",
        "outputId": "3537af07-6a95-4ebf-9fe8-e687f46e762a"
      },
      "execution_count": 5,
      "outputs": [
        {
          "output_type": "stream",
          "name": "stdout",
          "text": [
            "No                      int64\n",
            "Lagu                   object\n",
            "Artis                  object\n",
            "Genre                  object\n",
            "Kepekatan_Spektral    float64\n",
            "Kejernihan_Suara      float64\n",
            "Energi_Tonalitas      float64\n",
            "Keseragaman_Irama     float64\n",
            "Kecepatan_Tempo         int64\n",
            "dtype: object\n"
          ]
        }
      ]
    },
    {
      "cell_type": "code",
      "source": [
        "features = ['Kejernihan_Suara', 'Energi_Tonalitas', 'Keseragaman_Irama', 'Kecepatan_Tempo']\n",
        "x = data[features]\n",
        "y = data['Kepekatan_Spektral']\n",
        "x.shape, y.shape"
      ],
      "metadata": {
        "colab": {
          "base_uri": "https://localhost:8080/"
        },
        "id": "w3y88LGoEsz3",
        "outputId": "6a24d618-d7b3-45b6-be7f-46e8187bdd70"
      },
      "execution_count": 6,
      "outputs": [
        {
          "output_type": "execute_result",
          "data": {
            "text/plain": [
              "((1103, 4), (1103,))"
            ]
          },
          "metadata": {},
          "execution_count": 6
        }
      ]
    },
    {
      "cell_type": "code",
      "source": [
        "from sklearn.model_selection import train_test_split\n",
        "train_x, test_x, train_y, test_y = train_test_split(x, y, random_state = 70)"
      ],
      "metadata": {
        "id": "yNgg5y5FEs4X"
      },
      "execution_count": 7,
      "outputs": []
    },
    {
      "cell_type": "code",
      "source": [
        "test_y.shape"
      ],
      "metadata": {
        "colab": {
          "base_uri": "https://localhost:8080/"
        },
        "id": "QDNOUdKUEs8n",
        "outputId": "88fb15ca-3519-4494-a0de-5c00e4aeaabb"
      },
      "execution_count": 8,
      "outputs": [
        {
          "output_type": "execute_result",
          "data": {
            "text/plain": [
              "(276,)"
            ]
          },
          "metadata": {},
          "execution_count": 8
        }
      ]
    },
    {
      "cell_type": "code",
      "source": [
        "from sklearn.neighbors import KNeighborsRegressor as KNN_Reg\n",
        "from sklearn.metrics import mean_squared_error as mse\n",
        "\n",
        "model = KNN_Reg(n_neighbors = 80)\n",
        "\n",
        "# training the model:\n",
        "model.fit(train_x, train_y)\n",
        "acc1 = model.score(test_x, test_y)\n",
        "\n",
        "# test for prediction\n",
        "test_predict = model.predict(test_x)\n",
        "score = mse(test_predict, test_y)\n",
        "print(' MSE: ', score, '\\n', 'Accuracy: ', acc1)"
      ],
      "metadata": {
        "colab": {
          "base_uri": "https://localhost:8080/"
        },
        "id": "__hkkgIdEtA3",
        "outputId": "d4b37729-c34a-4f0c-ba49-c4f959aa3d52"
      },
      "execution_count": 9,
      "outputs": [
        {
          "output_type": "stream",
          "name": "stdout",
          "text": [
            " MSE:  0.003937368376358691 \n",
            " Accuracy:  0.37936448563683756\n"
          ]
        }
      ]
    },
    {
      "cell_type": "code",
      "source": [
        "def Elbow(K):\n",
        "  #initiating an empy list\n",
        "  test_mse =[]\n",
        "\n",
        "  #train model for every value of K\n",
        "  for i in K:\n",
        "    model = KNN_Reg(n_neighbors=i)\n",
        "    model.fit(train_x, train_y)\n",
        "    tmp = model.predict(test_x)\n",
        "    tmp = mse(tmp, test_y)\n",
        "    test_mse.append(tmp)\n",
        "\n",
        "  return test_mse"
      ],
      "metadata": {
        "id": "PRv1SJdoEtFP"
      },
      "execution_count": 10,
      "outputs": []
    },
    {
      "cell_type": "code",
      "source": [
        "K = range(80, 100)\n",
        "test = Elbow(K)\n",
        "\n",
        "#plotting\n",
        "plt.plot(K,test)\n",
        "plt.xlabel('K Neighbors')\n",
        "plt.ylabel('Mean Squared Error (MSE)')\n",
        "plt.title('Elbow Curve for Test')"
      ],
      "metadata": {
        "colab": {
          "base_uri": "https://localhost:8080/",
          "height": 490
        },
        "id": "mzrRmhw3EtJg",
        "outputId": "304277af-10c2-47bc-902c-2150607c4940"
      },
      "execution_count": 11,
      "outputs": [
        {
          "output_type": "execute_result",
          "data": {
            "text/plain": [
              "Text(0.5, 1.0, 'Elbow Curve for Test')"
            ]
          },
          "metadata": {},
          "execution_count": 11
        },
        {
          "output_type": "display_data",
          "data": {
            "text/plain": [
              "<Figure size 640x480 with 1 Axes>"
            ],
            "image/png": "[encoded data removed]"
          },
          "metadata": {}
        }
      ]
    },
    {
      "cell_type": "code",
      "source": [
        "new_model = KNN_Reg(n_neighbors=27)\n",
        "\n",
        "# Train model\n",
        "new_model.fit(train_x, train_y)\n",
        "acc2 = new_model.score(test_x, test_y)\n",
        "\n",
        "# Prediction test\n",
        "print(' Accuracy of new model (%):', acc2*100, '\\n', 'Accuracy of old model (%):', acc1*100, '\\n Improvement (%):', (acc2-acc1)*100)"
      ],
      "metadata": {
        "colab": {
          "base_uri": "https://localhost:8080/"
        },
        "id": "n8PNGL1NEtOA",
        "outputId": "010634ad-139b-44a6-9852-5249afe92e2e"
      },
      "execution_count": 57,
      "outputs": [
        {
          "output_type": "stream",
          "name": "stdout",
          "text": [
            " Accuracy of new model (%): 92.40534273708332 \n",
            " Accuracy of old model (%): 37.936448563683754 \n",
            " Improvement (%): 54.46889417339956\n"
          ]
        }
      ]
    },
    {
      "cell_type": "code",
      "source": [
        "datalagu = np.array([[0.15,0.35,0.20,0.70]])\n",
        "prediction_old = model.predict(datalagu)\n",
        "prediction_new = new_model.predict(datalagu)\n",
        "print(' Hasil Prediksi Kecenderungan Gaya Musik Berdasarkan Analisis Spektral Audio yaitu', prediction_old , 'Hz \\n',\n",
        "      'Hasil Prediksi Kecenderungan Gaya Musik Berdasarkan Analisis Spektral Audio yaitu', prediction_new , 'Hz')"
      ],
      "metadata": {
        "colab": {
          "base_uri": "https://localhost:8080/"
        },
        "id": "f54UJYZeEtaI",
        "outputId": "6c9f523e-c9f1-4081-ea4a-31666c791538"
      },
      "execution_count": 73,
      "outputs": [
        {
          "output_type": "stream",
          "name": "stdout",
          "text": [
            " Hasil Prediksi Kecenderungan Gaya Musik Berdasarkan Analisis Spektral Audio yaitu [0.85375] Hz \n",
            " Hasil Prediksi Kecenderungan Gaya Musik Berdasarkan Analisis Spektral Audio yaitu [0.95] Hz\n"
          ]
        },
        {
          "output_type": "stream",
          "name": "stderr",
          "text": [
            "/usr/local/lib/python3.10/dist-packages/sklearn/base.py:439: UserWarning: X does not have valid feature names, but KNeighborsRegressor was fitted with feature names\n",
            "  warnings.warn(\n",
            "/usr/local/lib/python3.10/dist-packages/sklearn/base.py:439: UserWarning: X does not have valid feature names, but KNeighborsRegressor was fitted with feature names\n",
            "  warnings.warn(\n"
          ]
        }
      ]
    },
    {
      "cell_type": "code",
      "source": [
        "datalagu2 = np.array([[0.85,0.90,0.90,0.85]])\n",
        "prediction_old = model.predict(datalagu2)\n",
        "prediction_new = new_model.predict(datalagu2)\n",
        "print(' Hasil Prediksi Kecenderungan Gaya Musik Berdasarkan Analisis Spektral Audio yaitu', prediction_old , 'Hz\\n',\n",
        "      'Hasil Prediksi Kecenderungan Gaya Musik Berdasarkan Analisis Spektral Audio yaitu', prediction_new , 'Hz')"
      ],
      "metadata": {
        "colab": {
          "base_uri": "https://localhost:8080/"
        },
        "id": "VjvkU2h5Gapg",
        "outputId": "df22dfd1-c8af-4a38-cf59-5acfe1dbe678"
      },
      "execution_count": 74,
      "outputs": [
        {
          "output_type": "stream",
          "name": "stdout",
          "text": [
            " Hasil Prediksi Kecenderungan Gaya Musik Berdasarkan Analisis Spektral Audio yaitu [0.929375] Hz\n",
            " Hasil Prediksi Kecenderungan Gaya Musik Berdasarkan Analisis Spektral Audio yaitu [0.95] Hz\n"
          ]
        },
        {
          "output_type": "stream",
          "name": "stderr",
          "text": [
            "/usr/local/lib/python3.10/dist-packages/sklearn/base.py:439: UserWarning: X does not have valid feature names, but KNeighborsRegressor was fitted with feature names\n",
            "  warnings.warn(\n",
            "/usr/local/lib/python3.10/dist-packages/sklearn/base.py:439: UserWarning: X does not have valid feature names, but KNeighborsRegressor was fitted with feature names\n",
            "  warnings.warn(\n"
          ]
        }
      ]
    },
    {
      "cell_type": "code",
      "source": [
        "def hz_to_genre(hz_value):\n",
        "    genre_mapping = {\n",
        "        'Pop': (0, 0.1),\n",
        "        'Electronic': (0.1, 0.2),\n",
        "        'Jazz': (0.2, 0.3),\n",
        "        'Country': (0.3, 0.4),\n",
        "        'Hip-hop': (0.4, 0.5),\n",
        "        'Classical': (0.5, 0.6),\n",
        "        'Reggae': (0.6, 0.7),\n",
        "        'Soul': (0.7, 0.8),\n",
        "        'Experimental': (0.8, 0.9),\n",
        "        'Funk': (0.9, 1.0),\n",
        "        'EDM': (1.0, 1.1),\n",
        "        'Drum and Bass': (1.1, 1.2),\n",
        "        'Ballad': (1.2, 1.3),\n",
        "        'Alternative': (1.3, 1.4),\n",
        "        'Acoustic': (1.4, 1.5),\n",
        "        'Heavy Metal': (1.5, 1.6),\n",
        "        'Synthwave': (1.6, 1.7),\n",
        "        'Reggaeton': (1.7, 1.8),\n",
        "        'Blues': (1.8, 1.9),\n",
        "        'Rockabilly': (1.9, 2.0),\n",
        "        'Dance': (2.0, 2.1),\n",
        "        'Trap': (2.1, 2.2),\n",
        "        'Salsa': (2.2, 2.3),\n",
        "        'Chillout': (2.3, 2.4),\n",
        "        'Punk Rock': (2.4, 2.5),\n",
        "        'Surf Rock': (2.5, 2.6),\n",
        "        'Gospel': (2.6, 2.7),\n",
        "        'Metalcore': (2.7, 2.8),\n",
        "        'Indie Folk': (2.8, 2.9),\n",
        "        'Techno': (2.9, 3.0),\n",
        "        'Rock \\'n\\' Roll': (3.0, 3.1),\n",
        "        'Dream Pop': (3.1, 3.2),\n",
        "        'R&B': (3.2, 3.3),\n",
        "        'World': (3.3, 3.4),\n",
        "        'Psychedelic': (3.4, 3.5),\n",
        "        'Shred': (3.5, 3.6),\n",
        "        'Chillhop': (3.6, 3.7),\n",
        "        'Downtempo': (3.7, 3.8),\n",
        "        'Metal': (3.8, 3.9),\n",
        "        'Trance': (3.9, 4.0),\n",
        "        'Indie Rock': (4.0, 4.1),\n",
        "        'Jazz Funk': (4.1, 4.2),\n",
        "        'Deep House': (4.2, 4.3),\n",
        "        'Death Metal': (4.3, 4.4),\n",
        "        'Electro Swing': (4.4, 4.5),\n",
        "    }\n",
        "\n",
        "    for genre, (min_hz, max_hz) in genre_mapping.items():\n",
        "        if min_hz <= hz_value < max_hz:\n",
        "            return genre\n",
        "\n",
        "    return 'Genre tidak teridentifikasi'\n",
        "\n",
        "\n"
      ],
      "metadata": {
        "id": "js221jtROj_g"
      },
      "execution_count": 82,
      "outputs": []
    },
    {
      "cell_type": "code",
      "source": [
        "prediction_old_hz = 0.85375\n",
        "prediction_new_hz = 0.95"
      ],
      "metadata": {
        "id": "yHWYa5pCOkZb"
      },
      "execution_count": 84,
      "outputs": []
    },
    {
      "cell_type": "code",
      "source": [
        "\n",
        "genre_old = hz_to_genre(prediction_old_hz)\n",
        "genre_new = hz_to_genre(prediction_new_hz)\n"
      ],
      "metadata": {
        "id": "5S8vZA_eOoM4"
      },
      "execution_count": 83,
      "outputs": []
    },
    {
      "cell_type": "code",
      "source": [
        "# Menampilkan hasil\n",
        "print('Hasil Prediksi Kecenderungan Gaya Musik Berdasarkan Analisis Spektral Audio yaitu', genre_old)\n",
        "print('Hasil Prediksi Kecenderungan Gaya Musik Berdasarkan Analisis Spektral Audio yaitu', genre_new)"
      ],
      "metadata": {
        "colab": {
          "base_uri": "https://localhost:8080/"
        },
        "id": "J4VswE4_O3TI",
        "outputId": "db27d427-da93-4fef-b350-e7fa6a51fc7c"
      },
      "execution_count": 78,
      "outputs": [
        {
          "output_type": "stream",
          "name": "stdout",
          "text": [
            "Hasil Prediksi Kecenderungan Gaya Musik Berdasarkan Analisis Spektral Audio yaitu Experimental\n",
            "Hasil Prediksi Kecenderungan Gaya Musik Berdasarkan Analisis Spektral Audio yaitu Funk\n"
          ]
        }
      ]
    }
  ]
}