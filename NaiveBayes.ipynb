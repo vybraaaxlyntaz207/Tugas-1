{
  "nbformat": 4,
  "nbformat_minor": 0,
  "metadata": {
    "colab": {
      "provenance": [],
      "authorship_tag": "ABX9TyPipoFt9AiiQj1NqghnTYZr",
      "include_colab_link": true
    },
    "kernelspec": {
      "name": "python3",
      "display_name": "Python 3"
    },
    "language_info": {
      "name": "python"
    }
  },
  "cells": [
    {
      "cell_type": "markdown",
      "metadata": {
        "id": "view-in-github",
        "colab_type": "text"
      },
      "source": [
        "<a href=\"https://colab.research.google.com/github/vybraaaxlyntaz207/Tugas-DataMining/blob/main/NaiveBayes.ipynb\" target=\"_parent\"><img src=\"https://colab.research.google.com/assets/colab-badge.svg\" alt=\"Open In Colab\"/></a>"
      ]
    },
    {
      "cell_type": "code",
      "execution_count": 83,
      "metadata": {
        "id": "Oa8vSh7mFwtL"
      },
      "outputs": [],
      "source": [
        "import numpy as np\n",
        "import matplotlib.pyplot as plt\n",
        "import pandas as pd"
      ]
    },
    {
      "cell_type": "code",
      "source": [
        "dataset = pd.read_csv('DataTemperature.csv')\n",
        "X = dataset.iloc[:, [2, 3]].values\n",
        "y = dataset.iloc[:, -1].values"
      ],
      "metadata": {
        "id": "oSQDWNosbr95"
      },
      "execution_count": 85,
      "outputs": []
    },
    {
      "cell_type": "code",
      "source": [
        "y"
      ],
      "metadata": {
        "colab": {
          "base_uri": "https://localhost:8080/"
        },
        "id": "wNQCmYhad9sw",
        "outputId": "fd8b9594-07e9-43fb-e4af-0c23090dcc89"
      },
      "execution_count": 86,
      "outputs": [
        {
          "output_type": "execute_result",
          "data": {
            "text/plain": [
              "array([ True,  True,  True,  True,  True,  True,  True,  True,  True,\n",
              "        True,  True,  True,  True,  True,  True,  True,  True,  True,\n",
              "        True,  True,  True,  True,  True,  True,  True,  True,  True,\n",
              "        True,  True,  True,  True,  True,  True,  True,  True,  True,\n",
              "        True,  True,  True,  True,  True,  True,  True,  True,  True,\n",
              "        True,  True,  True,  True,  True,  True,  True,  True,  True,\n",
              "        True,  True,  True,  True,  True,  True,  True,  True,  True,\n",
              "        True,  True,  True,  True,  True,  True,  True,  True,  True,\n",
              "        True,  True,  True,  True,  True,  True,  True,  True,  True,\n",
              "        True,  True,  True,  True,  True,  True,  True,  True,  True,\n",
              "        True,  True,  True,  True,  True,  True,  True,  True,  True,\n",
              "        True,  True,  True,  True,  True,  True,  True,  True,  True,\n",
              "       False, False, False, False, False, False, False, False, False,\n",
              "       False, False, False, False, False, False, False, False, False,\n",
              "        True,  True,  True,  True,  True,  True,  True,  True,  True,\n",
              "        True,  True,  True,  True,  True,  True,  True,  True,  True,\n",
              "        True,  True,  True,  True,  True,  True,  True,  True,  True,\n",
              "        True,  True,  True,  True,  True,  True,  True,  True,  True,\n",
              "        True,  True,  True,  True,  True,  True,  True,  True,  True,\n",
              "        True,  True,  True,  True,  True,  True,  True,  True,  True,\n",
              "        True,  True,  True,  True,  True,  True,  True,  True,  True,\n",
              "        True,  True,  True,  True,  True,  True,  True,  True,  True,\n",
              "        True,  True,  True,  True,  True,  True,  True,  True,  True,\n",
              "        True,  True,  True,  True,  True,  True,  True,  True,  True,\n",
              "        True,  True,  True,  True,  True,  True,  True,  True,  True,\n",
              "        True,  True,  True,  True,  True,  True,  True,  True,  True,\n",
              "       False, False, False, False, False, False, False, False, False,\n",
              "       False, False, False, False, False, False, False, False, False,\n",
              "        True,  True,  True,  True,  True,  True,  True,  True,  True,\n",
              "        True,  True,  True,  True,  True,  True,  True,  True,  True,\n",
              "        True,  True,  True,  True,  True,  True,  True,  True,  True,\n",
              "        True,  True,  True,  True,  True,  True,  True,  True,  True])"
            ]
          },
          "metadata": {},
          "execution_count": 86
        }
      ]
    },
    {
      "cell_type": "code",
      "source": [
        "x"
      ],
      "metadata": {
        "colab": {
          "base_uri": "https://localhost:8080/"
        },
        "id": "VMhj95jZeC8f",
        "outputId": "b4acc88a-5191-4ca8-d9fd-db1b050bec4d"
      },
      "execution_count": 87,
      "outputs": [
        {
          "output_type": "execute_result",
          "data": {
            "text/plain": [
              "array([[1329536.  ,  323589.  ],\n",
              "       [1299699.  ,  329041.  ],\n",
              "       [1382905.  ,  339253.  ],\n",
              "       [1419128.  ,  348223.  ],\n",
              "       [1368074.  ,  337561.  ],\n",
              "       [1404580.  ,  365892.  ],\n",
              "       [1478712.  ,  359817.  ],\n",
              "       [1486909.  ,  336765.  ],\n",
              "       [1547499.  ,  295212.  ],\n",
              "       [1314165.  ,  315131.  ],\n",
              "       [1246614.  ,  367636.  ],\n",
              "       [1350748.  ,  370966.  ],\n",
              "       [1411650.  ,  337893.  ],\n",
              "       [1552078.  ,  320789.  ],\n",
              "       [1556858.  ,  360717.  ],\n",
              "       [1402287.  ,  329109.  ],\n",
              "       [1533369.  ,  359375.  ],\n",
              "       [1788738.  ,  352281.  ],\n",
              "       [1772962.  ,  380686.  ],\n",
              "       [1582393.  ,  387803.  ],\n",
              "       [2331046.  ,  419183.  ],\n",
              "       [1820062.  ,  376137.  ],\n",
              "       [1956940.  ,  461060.  ],\n",
              "       [2180754.  ,  293067.  ],\n",
              "       [2478922.  ,  294483.  ],\n",
              "       [1751996.94,  329515.78],\n",
              "       [1714437.6 ,  310012.46],\n",
              "       [1861567.1 ,  317869.41],\n",
              "       [2918152.  ,  754569.  ],\n",
              "       [3079960.  ,  792534.  ],\n",
              "       [3134533.  ,  795183.  ],\n",
              "       [3136760.  ,  790051.  ],\n",
              "       [3212208.  ,  797545.  ],\n",
              "       [3321049.  ,  823749.  ],\n",
              "       [3451430.  ,  838626.  ],\n",
              "       [3514253.  ,  847610.  ],\n",
              "       [3291515.  ,  801948.  ],\n",
              "       [3153305.  ,  765161.  ],\n",
              "       [3403075.  ,  825188.  ],\n",
              "       [3418782.  ,  826091.  ],\n",
              "       [3447394.  ,  822073.  ],\n",
              "       [3007636.  ,  705023.  ],\n",
              "       [3265834.  ,  750232.  ],\n",
              "       [3340794.  ,  748540.  ],\n",
              "       [3527899.  ,  768407.  ],\n",
              "       [3582302.  ,  754674.  ],\n",
              "       [3607403.  ,  757547.  ],\n",
              "       [3715514.  ,  765099.  ],\n",
              "       [3727249.  ,  742968.  ],\n",
              "       [3631039.  ,  717318.  ],\n",
              "       [4044829.  ,  781769.  ],\n",
              "       [4387035.9 ,  423029.  ],\n",
              "       [4669777.5 ,  415675.  ],\n",
              "       [2108284.72,  408176.45],\n",
              "       [2078901.59,  413141.24],\n",
              "       [2076280.01,  388591.22],\n",
              "       [1806424.  ,  394412.  ],\n",
              "       [1747543.  ,  382740.  ],\n",
              "       [1829192.  ,  400627.  ],\n",
              "       [1971180.  ,  430343.  ],\n",
              "       [1787719.  ,  395728.  ],\n",
              "       [1807622.  ,  412810.  ],\n",
              "       [1897678.  ,  432254.  ],\n",
              "       [1759059.  ,  396919.  ],\n",
              "       [1668955.  ,  376710.  ],\n",
              "       [1875834.  ,  424253.  ],\n",
              "       [1823739.  ,  411860.  ],\n",
              "       [1875188.  ,  422582.  ],\n",
              "       [1907390.  ,  426950.  ],\n",
              "       [1889489.  ,  417846.  ],\n",
              "       [1938120.  ,  423655.  ],\n",
              "       [1965634.  ,  421902.  ],\n",
              "       [2105790.  ,  439542.  ],\n",
              "       [2211248.  ,  460497.  ],\n",
              "       [2279602.  ,  461709.  ],\n",
              "       [2368390.  ,  476422.  ],\n",
              "       [2430384.  ,  487820.  ],\n",
              "       [2519020.  ,  503198.  ],\n",
              "       [2550609.  ,  507545.  ],\n",
              "       [2487929.  ,  222482.  ],\n",
              "       [2810425.  ,  222021.  ],\n",
              "       [1483076.48,  313050.82],\n",
              "       [1482996.01,  311671.23],\n",
              "       [1450839.74,  295664.47],\n",
              "       [ 436297.  ,  146133.  ],\n",
              "       [ 445361.  ,  146177.  ],\n",
              "       [ 458756.  ,  152204.  ],\n",
              "       [ 461905.  ,  150354.  ],\n",
              "       [ 416135.  ,  137953.  ],\n",
              "       [ 370124.  ,  126280.  ],\n",
              "       [ 461630.  ,  155683.  ],\n",
              "       [ 431351.  ,  141640.  ],\n",
              "       [ 413391.  ,  132507.  ],\n",
              "       [ 396644.  ,  129025.  ],\n",
              "       [ 414237.  ,  132887.  ],\n",
              "       [ 454186.  ,  145239.  ],\n",
              "       [ 424095.  ,  134418.  ],\n",
              "       [  42938.  ,  136177.  ],\n",
              "       [ 490087.  ,  147167.  ],\n",
              "       [ 494260.  ,  147796.  ],\n",
              "       [ 531429.  ,  149423.  ],\n",
              "       [ 574864.  ,  156088.  ],\n",
              "       [ 535788.  ,  145242.  ],\n",
              "       [ 512152.  ,  144015.  ],\n",
              "       [ 434144.  ,  118518.  ],\n",
              "       [ 385475.  ,  106037.  ],\n",
              "       [ 393917.  ,  107546.  ],\n",
              "       [ 325826.  ,   72151.  ],\n",
              "       [ 337421.  ,   70016.  ],\n",
              "       [ 266375.53,   71448.08],\n",
              "       [ 230873.97,   63142.04],\n",
              "       [ 269344.05,   64733.13],\n",
              "       [ 607529.  ,  199431.  ],\n",
              "       [ 564722.  ,  184029.  ],\n",
              "       [ 593502.  ,  193666.  ],\n",
              "       [ 657650.  ,  215975.  ],\n",
              "       [ 572269.  ,  190608.  ],\n",
              "       [ 550277.  ,  178766.  ],\n",
              "       [ 553641.  ,  178307.  ],\n",
              "       [ 536779.  ,  171395.  ],\n",
              "       [ 556564.  ,  164826.  ],\n",
              "       [ 561007.  ,  165729.  ],\n",
              "       [ 578346.  ,  159463.  ],\n",
              "       [ 579404.  ,  156803.  ],\n",
              "       [ 579635.  ,  154941.  ],\n",
              "       [ 544597.  ,  140613.  ],\n",
              "       [  58663.  ,  149888.  ],\n",
              "       [ 581704.  ,  143034.  ],\n",
              "       [ 644947.  ,  155802.  ],\n",
              "       [ 628828.  ,  153897.  ],\n",
              "       [ 646641.  ,  157441.  ],\n",
              "       [ 625164.  ,  149369.  ],\n",
              "       [ 664535.  ,  153243.  ],\n",
              "       [ 664720.  ,  145990.  ],\n",
              "       [ 541486.  ,  122214.  ],\n",
              "       [ 642095.  ,   96588.  ],\n",
              "       [ 678127.  ,   97690.  ],\n",
              "       [ 383045.74,   86202.68],\n",
              "       [ 309932.68,   69536.06],\n",
              "       [ 374376.27,   84772.93],\n",
              "       [1409559.  ,  439895.  ],\n",
              "       [1347611.  ,  422109.  ],\n",
              "       [1557944.  ,  492448.  ],\n",
              "       [1666591.  ,  495958.  ],\n",
              "       [1577398.  ,  469670.  ],\n",
              "       [1931505.  ,  621829.  ],\n",
              "       [1789961.  ,  530692.  ],\n",
              "       [1863643.  ,  555427.  ],\n",
              "       [1723433.  ,  511928.  ],\n",
              "       [1899849.  ,  561724.  ],\n",
              "       [1977345.  ,  570010.  ],\n",
              "       [2260794.  ,  625013.  ],\n",
              "       [2320110.  ,  626849.  ],\n",
              "       [2456251.  ,  646927.  ],\n",
              "       [2753044.  ,  691467.  ],\n",
              "       [2971286.  ,  718797.  ],\n",
              "       [3125236.  ,  746465.  ],\n",
              "       [3272451.  ,  769478.  ],\n",
              "       [3384670.  ,  784820.  ],\n",
              "       [3295247.  ,  769725.  ],\n",
              "       [3676723.  ,  800036.  ],\n",
              "       [3670435.  ,  810900.  ],\n",
              "       [4247922.  ,  872737.  ],\n",
              "       [4881089.  ,  615184.  ],\n",
              "       [4807430.  ,  621903.  ],\n",
              "       [2994191.84,  581574.61],\n",
              "       [2603396.24,  539316.52],\n",
              "       [2696877.46,  551320.76],\n",
              "       [ 356709.  ,  109807.  ],\n",
              "       [ 334232.  ,  104747.  ],\n",
              "       [ 377337.  ,  115914.  ],\n",
              "       [ 396977.  ,  121929.  ],\n",
              "       [ 382123.  ,  113915.  ],\n",
              "       [ 375533.  ,  111158.  ],\n",
              "       [ 381577.  ,  114788.  ],\n",
              "       [ 362979.  ,  108751.  ],\n",
              "       [ 376973.  ,  105212.  ],\n",
              "       [ 379818.  ,  109519.  ],\n",
              "       [ 413375.  ,  110550.  ],\n",
              "       [ 414741.  ,  110929.  ],\n",
              "       [ 441276.  ,  116818.  ],\n",
              "       [ 378377.  ,  100991.  ],\n",
              "       [ 470469.  ,  123853.  ],\n",
              "       [ 484900.  ,  127506.  ],\n",
              "       [ 510160.  ,  132975.  ],\n",
              "       [ 516869.  ,  133629.  ],\n",
              "       [ 502552.  ,  127934.  ],\n",
              "       [ 581910.  ,  144448.  ],\n",
              "       [ 622832.  ,  147680.  ],\n",
              "       [ 593194.  ,  147572.  ],\n",
              "       [ 578654.  ,  128833.  ],\n",
              "       [ 629224.  ,   83449.  ],\n",
              "       [ 714017.  ,   82429.  ],\n",
              "       [ 288810.52,   65891.16],\n",
              "       [ 296472.07,   64406.86],\n",
              "       [ 296925.16,   64137.28],\n",
              "       [1646900.  ,  433078.  ],\n",
              "       [1615751.  ,  425940.  ],\n",
              "       [1943709.  ,  514363.  ],\n",
              "       [1971740.  ,  515192.  ],\n",
              "       [1753656.  ,  454087.  ],\n",
              "       [1975700.  ,  521575.  ],\n",
              "       [1801422.  ,  476899.  ],\n",
              "       [1946406.  ,  496879.  ],\n",
              "       [1992726.  ,  501119.  ],\n",
              "       [1951109.  ,  475461.  ],\n",
              "       [1966293.  ,  472635.  ],\n",
              "       [2091996.  ,  495519.  ],\n",
              "       [2124144.  ,  496538.  ],\n",
              "       [2129914.  ,  494102.  ],\n",
              "       [2308404.  ,  524955.  ],\n",
              "       [2341075.  ,  506547.  ],\n",
              "       [2673844.  ,  570417.  ],\n",
              "       [2807676.  ,  590608.  ],\n",
              "       [2940795.  ,  606973.  ],\n",
              "       [3101455.  ,  641876.  ],\n",
              "       [3207002.  ,  638090.  ],\n",
              "       [3320064.  ,  648731.  ],\n",
              "       [3641895.  ,  707266.  ],\n",
              "       [3831923.  ,  390799.  ],\n",
              "       [4090654.  ,  396559.  ],\n",
              "       [2488641.91,  511940.93],\n",
              "       [2164089.33,  464103.42],\n",
              "       [2604913.29,  545149.05]])"
            ]
          },
          "metadata": {},
          "execution_count": 87
        }
      ]
    },
    {
      "cell_type": "code",
      "source": [
        "from sklearn.model_selection import train_test_split\n",
        "X_train, X_test, y_train, y_test = train_test_split(X, y, test_size = 0.25, random_state = 0)"
      ],
      "metadata": {
        "id": "Pt9cpzdkeQlI"
      },
      "execution_count": 88,
      "outputs": []
    },
    {
      "cell_type": "code",
      "source": [
        "X_test"
      ],
      "metadata": {
        "colab": {
          "base_uri": "https://localhost:8080/"
        },
        "id": "2HTd_44be1MA",
        "outputId": "e9a90c9a-ded0-41fd-f871-8a8af1d54071"
      },
      "execution_count": 89,
      "outputs": [
        {
          "output_type": "execute_result",
          "data": {
            "text/plain": [
              "array([[  60,   27],\n",
              "       [  60,   27],\n",
              "       [  60,   27],\n",
              "       [ 399,   26],\n",
              "       [  60,   29],\n",
              "       [ 185,   26],\n",
              "       [  60,   28],\n",
              "       [  75,   69],\n",
              "       [1030,   30],\n",
              "       [  60,   27],\n",
              "       [  60,   27],\n",
              "       [ 350,   31],\n",
              "       [ 376,   31],\n",
              "       [ 185,   26],\n",
              "       [ 185,   27],\n",
              "       [ 435,   29],\n",
              "       [ 399,   27],\n",
              "       [ 508,   31],\n",
              "       [  60,   27],\n",
              "       [ 399,   27],\n",
              "       [ 399,   26],\n",
              "       [  60,   59],\n",
              "       [1483,   29],\n",
              "       [ 185,   26],\n",
              "       [ 882,   31],\n",
              "       [  60,   28],\n",
              "       [  60,   27],\n",
              "       [ 350,   31],\n",
              "       [  20,   28],\n",
              "       [1598,    0],\n",
              "       [ 311,   31],\n",
              "       [  60,   28],\n",
              "       [  65,   28],\n",
              "       [  60,   27],\n",
              "       [  20,   27],\n",
              "       [1598,    0],\n",
              "       [  68,   29],\n",
              "       [ 854,   32],\n",
              "       [  68,   29],\n",
              "       [ 399,   27],\n",
              "       [  60,   27],\n",
              "       [1019,   29],\n",
              "       [  60,   28],\n",
              "       [  60,   28],\n",
              "       [ 508,   31],\n",
              "       [ 882,   32],\n",
              "       [ 435,   29],\n",
              "       [1598,    0],\n",
              "       [  60,   28],\n",
              "       [  60,   28],\n",
              "       [  65,   28],\n",
              "       [1598,    0],\n",
              "       [  60,   27],\n",
              "       [  68,   29],\n",
              "       [  60,   27],\n",
              "       [  75,   29],\n",
              "       [ 350,   31],\n",
              "       [  60,   28],\n",
              "       [ 399,   26],\n",
              "       [  75,   29],\n",
              "       [ 508,   31],\n",
              "       [  75,   29],\n",
              "       [  60,   28],\n",
              "       [ 399,   26],\n",
              "       [ 185,   27],\n",
              "       [ 185,   27],\n",
              "       [ 350,   79],\n",
              "       [  60,   27],\n",
              "       [ 399,   27],\n",
              "       [ 185,   26],\n",
              "       [ 508,   31],\n",
              "       [  60,   29]])"
            ]
          },
          "metadata": {},
          "execution_count": 89
        }
      ]
    },
    {
      "cell_type": "code",
      "source": [
        "y_test"
      ],
      "metadata": {
        "colab": {
          "base_uri": "https://localhost:8080/"
        },
        "id": "YUEoqI0te_6Q",
        "outputId": "bde23d2e-00a8-4cae-d49b-1c2e3a8819c0"
      },
      "execution_count": 90,
      "outputs": [
        {
          "output_type": "execute_result",
          "data": {
            "text/plain": [
              "array([ True,  True,  True,  True,  True,  True, False, False,  True,\n",
              "        True,  True,  True,  True,  True,  True,  True,  True,  True,\n",
              "        True,  True,  True, False,  True,  True,  True, False,  True,\n",
              "        True,  True,  True,  True,  True,  True,  True,  True, False,\n",
              "        True,  True,  True,  True,  True,  True,  True,  True,  True,\n",
              "       False,  True,  True,  True,  True,  True,  True,  True,  True,\n",
              "        True,  True,  True,  True,  True,  True,  True,  True,  True,\n",
              "        True,  True,  True, False,  True,  True,  True,  True, False])"
            ]
          },
          "metadata": {},
          "execution_count": 90
        }
      ]
    },
    {
      "cell_type": "code",
      "source": [
        "from sklearn.preprocessing import StandardScaler\n",
        "sc = StandardScaler()\n",
        "X_train = sc.fit_transform(X_train)\n",
        "X_test = sc.transform(X_test)"
      ],
      "metadata": {
        "id": "csXj-PpwfEyo"
      },
      "execution_count": 91,
      "outputs": []
    },
    {
      "cell_type": "code",
      "source": [
        "X_train"
      ],
      "metadata": {
        "colab": {
          "base_uri": "https://localhost:8080/"
        },
        "id": "nEaJNO1lfHZA",
        "outputId": "8191cf29-884f-4c29-809f-92adc2eb3763"
      },
      "execution_count": 92,
      "outputs": [
        {
          "output_type": "execute_result",
          "data": {
            "text/plain": [
              "array([[ 1.07101089, -0.00649663],\n",
              "       [ 2.99842591, -2.72533704],\n",
              "       [-0.83212938, -0.26961022],\n",
              "       [-0.43159603, -0.35731475],\n",
              "       [-0.73503039, -0.18190569],\n",
              "       [-0.43159603, -0.44501928],\n",
              "       [ 0.34034096, -0.00649663],\n",
              "       [-0.73503039, -0.26961022],\n",
              "       [ 1.07101089, -0.00649663],\n",
              "       [-0.73503039, -0.35731475],\n",
              "       [-0.72289302, -0.26961022],\n",
              "       [-0.83212938, -0.26961022],\n",
              "       [-0.83212938, -0.35731475],\n",
              "       [-0.73503039, -0.26961022],\n",
              "       [-0.83212938, -0.35731475],\n",
              "       [-0.03106269, -0.00649663],\n",
              "       [-0.73503039,  2.80004831],\n",
              "       [-0.83212938,  3.23857096],\n",
              "       [-0.73503039,  3.23857096],\n",
              "       [ 0.34034096, -0.00649663],\n",
              "       [ 0.35247834, -0.00649663],\n",
              "       [ 1.59291798, -0.09420116],\n",
              "       [ 0.17527267, -0.18190569],\n",
              "       [-0.69861827, -0.09420116],\n",
              "       [-0.73503039, -0.35731475],\n",
              "       [ 1.6196202 , -0.09420116],\n",
              "       [ 2.7192663 , -0.09420116],\n",
              "       [ 0.08788358, -0.35731475],\n",
              "       [-0.69861827, -0.18190569],\n",
              "       [-0.73503039, -0.35731475],\n",
              "       [-0.12573421, -0.00649663],\n",
              "       [-0.73503039, -0.35731475],\n",
              "       [ 2.7192663 , -0.18190569],\n",
              "       [ 2.7192663 , -0.09420116],\n",
              "       [ 1.26035392,  0.0812079 ],\n",
              "       [-0.73503039, -0.26961022],\n",
              "       [-0.73503039, -0.35731475],\n",
              "       [-0.72289302, -0.26961022],\n",
              "       [ 1.19238463,  0.16891243],\n",
              "       [-0.73503039, -0.26961022],\n",
              "       [ 1.07101089, -0.00649663],\n",
              "       [-0.73503039, -0.26961022],\n",
              "       [ 0.17527267, -0.09420116],\n",
              "       [-0.73503039, -0.35731475],\n",
              "       [-0.69861827, -0.18190569],\n",
              "       [ 1.07101089, -0.09420116],\n",
              "       [-0.71561059, -0.18190569],\n",
              "       [-0.83212938, -0.26961022],\n",
              "       [ 1.19238463,  0.16891243],\n",
              "       [ 1.26035392, -0.00649663],\n",
              "       [ 0.17527267, -0.18190569],\n",
              "       [ 0.03205166, -0.00649663],\n",
              "       [-0.73503039, -0.26961022],\n",
              "       [-0.83212938, -0.35731475],\n",
              "       [-0.73503039, -0.26961022],\n",
              "       [-0.73503039, -0.26961022],\n",
              "       [ 1.59291798, -0.09420116],\n",
              "       [-0.73503039, -0.35731475],\n",
              "       [ 0.17527267, -0.18190569],\n",
              "       [ 1.19238463,  0.16891243],\n",
              "       [ 0.34034096, -0.00649663],\n",
              "       [-0.71561059, -0.18190569],\n",
              "       [-0.73503039, -0.35731475],\n",
              "       [-0.12573421, -0.00649663],\n",
              "       [ 0.34034096,  0.0812079 ],\n",
              "       [-0.69861827, -0.18190569],\n",
              "       [ 0.03205166, -0.00649663],\n",
              "       [-0.72289302, -0.26961022],\n",
              "       [ 0.17527267, -0.18190569],\n",
              "       [-0.43159603, -0.35731475],\n",
              "       [-0.73503039, -0.35731475],\n",
              "       [-0.72289302,  2.88775284],\n",
              "       [-0.73503039, -0.26961022],\n",
              "       [-0.73503039, -0.35731475],\n",
              "       [-0.73503039, -0.26961022],\n",
              "       [ 1.6196202 , -0.09420116],\n",
              "       [-0.73503039, -0.26961022],\n",
              "       [-0.69861827, -0.09420116],\n",
              "       [ 0.17527267, -0.18190569],\n",
              "       [ 0.17527267, -0.18190569],\n",
              "       [ 0.17527267, -0.18190569],\n",
              "       [ 0.08788358, -0.44501928],\n",
              "       [ 1.07101089,  4.20332078],\n",
              "       [-0.73503039, -0.35731475],\n",
              "       [-0.72289302, -0.26961022],\n",
              "       [ 0.17527267, -0.18190569],\n",
              "       [ 2.99842591, -2.72533704],\n",
              "       [ 0.17527267, -0.18190569],\n",
              "       [-0.73503039, -0.35731475],\n",
              "       [-0.73503039, -0.35731475],\n",
              "       [ 1.6196202 , -0.09420116],\n",
              "       [-0.43159603, -0.44501928],\n",
              "       [-0.73503039, -0.26961022],\n",
              "       [-0.73503039, -0.35731475],\n",
              "       [ 1.59291798, -0.18190569],\n",
              "       [-0.73503039, -0.26961022],\n",
              "       [ 2.99842591, -2.72533704],\n",
              "       [-0.72289302, -0.26961022],\n",
              "       [-0.71561059, -0.18190569],\n",
              "       [ 0.17527267,  4.11561625],\n",
              "       [ 0.03205166,  0.0812079 ],\n",
              "       [-0.83212938, -0.35731475],\n",
              "       [-0.71561059, -0.18190569],\n",
              "       [-0.72289302, -0.26961022],\n",
              "       [-0.73503039, -0.26961022],\n",
              "       [ 0.35247834, -0.00649663],\n",
              "       [-0.73503039, -0.26961022],\n",
              "       [-0.69861827, -0.18190569],\n",
              "       [-0.73503039, -0.35731475],\n",
              "       [-0.73503039, -0.35731475],\n",
              "       [-0.83212938, -0.35731475],\n",
              "       [-0.83212938, -0.35731475],\n",
              "       [-0.12573421, -0.00649663],\n",
              "       [-0.72289302, -0.26961022],\n",
              "       [-0.83212938, -0.35731475],\n",
              "       [-0.73503039, -0.35731475],\n",
              "       [-0.72289302, -0.26961022],\n",
              "       [-0.12573421,  4.02791172],\n",
              "       [ 2.99842591, -2.72533704],\n",
              "       [ 1.6196202 , -0.09420116],\n",
              "       [ 1.19238463,  0.0812079 ],\n",
              "       [ 0.03205166, -0.00649663],\n",
              "       [ 1.19238463,  0.0812079 ],\n",
              "       [ 1.59291798, -0.09420116],\n",
              "       [ 1.6196202 , -0.09420116],\n",
              "       [-0.72289302, -0.26961022],\n",
              "       [-0.73503039,  2.44923019],\n",
              "       [-0.73503039, -0.35731475],\n",
              "       [ 0.34034096,  0.0812079 ],\n",
              "       [-0.69861827, -0.18190569],\n",
              "       [-0.83212938, -0.35731475],\n",
              "       [ 0.08788358, -0.44501928],\n",
              "       [-0.72289302, -0.18190569],\n",
              "       [-0.73503039, -0.35731475],\n",
              "       [-0.12573421, -0.00649663],\n",
              "       [-0.12573421, -0.09420116],\n",
              "       [-0.69861827, -0.18190569],\n",
              "       [ 0.17527267, -0.18190569],\n",
              "       [ 1.59291798,  4.11561625],\n",
              "       [ 0.03205166, -0.00649663],\n",
              "       [-0.73503039, -0.26961022],\n",
              "       [ 1.19238463,  0.16891243],\n",
              "       [ 0.17527267, -0.09420116],\n",
              "       [-0.71561059,  3.41398002],\n",
              "       [ 0.08788358, -0.35731475],\n",
              "       [ 1.26035392, -0.00649663],\n",
              "       [-0.73503039, -0.26961022],\n",
              "       [-0.73503039, -0.35731475],\n",
              "       [ 0.08788358, -0.44501928],\n",
              "       [-0.73503039, -0.26961022],\n",
              "       [ 2.7192663 , -0.18190569],\n",
              "       [ 2.7192663 , -0.09420116],\n",
              "       [ 0.03205166, -0.00649663],\n",
              "       [ 0.34034096, -0.00649663],\n",
              "       [-0.73503039, -0.35731475],\n",
              "       [-0.71561059, -0.18190569],\n",
              "       [ 2.7192663 , -0.18190569],\n",
              "       [-0.73503039, -0.35731475],\n",
              "       [ 0.03205166,  0.0812079 ],\n",
              "       [-0.73503039, -0.26961022],\n",
              "       [-0.69861827, -0.18190569],\n",
              "       [-0.69861827, -0.18190569],\n",
              "       [ 1.6196202 , -0.18190569],\n",
              "       [-0.69861827, -0.09420116],\n",
              "       [-0.71561059, -0.18190569],\n",
              "       [ 0.34034096, -0.00649663],\n",
              "       [-0.12573421, -0.00649663],\n",
              "       [-0.73503039, -0.35731475],\n",
              "       [-0.71561059, -0.09420116],\n",
              "       [ 0.34034096, -0.00649663],\n",
              "       [-0.73503039, -0.26961022],\n",
              "       [-0.83212938, -0.26961022],\n",
              "       [-0.73503039, -0.26961022],\n",
              "       [ 1.26035392,  0.0812079 ],\n",
              "       [ 0.08788358, -0.35731475],\n",
              "       [-0.73503039, -0.35731475],\n",
              "       [-0.69861827, -0.09420116],\n",
              "       [-0.72289302, -0.26961022],\n",
              "       [-0.73503039, -0.35731475],\n",
              "       [-0.71561059, -0.18190569],\n",
              "       [ 0.08788358,  3.32627549],\n",
              "       [-0.73503039, -0.35731475],\n",
              "       [ 1.19238463,  0.16891243],\n",
              "       [ 0.17527267, -0.18190569],\n",
              "       [-0.73503039, -0.26961022],\n",
              "       [-0.72289302, -0.35731475],\n",
              "       [-0.71561059, -0.18190569],\n",
              "       [-0.73503039, -0.35731475],\n",
              "       [-0.03106269, -0.00649663],\n",
              "       [ 1.59291798, -0.18190569],\n",
              "       [-0.43159603, -0.44501928],\n",
              "       [ 0.35247834, -0.00649663],\n",
              "       [-0.43159603,  3.41398002],\n",
              "       [-0.71561059, -0.09420116],\n",
              "       [ 1.07101089, -0.00649663],\n",
              "       [-0.83212938, -0.35731475],\n",
              "       [-0.71561059, -0.18190569],\n",
              "       [-0.73503039, -0.35731475],\n",
              "       [-0.72289302, -0.26961022],\n",
              "       [-0.03106269, -0.00649663],\n",
              "       [-0.43159603, -0.35731475],\n",
              "       [-0.73503039, -0.35731475],\n",
              "       [ 1.07101089, -0.09420116],\n",
              "       [ 1.26035392, -0.00649663],\n",
              "       [ 1.26035392,  0.0812079 ],\n",
              "       [ 1.6196202 , -0.09420116],\n",
              "       [-0.73503039,  3.50168455],\n",
              "       [-0.71561059, -0.18190569],\n",
              "       [ 1.07101089, -0.09420116],\n",
              "       [-0.43159603, -0.35731475],\n",
              "       [ 1.59291798, -0.18190569],\n",
              "       [ 0.35247834,  4.11561625],\n",
              "       [-0.03106269, -0.09420116],\n",
              "       [-0.43159603, -0.35731475],\n",
              "       [ 2.7192663 , -0.18190569],\n",
              "       [ 0.08788358, -0.44501928]])"
            ]
          },
          "metadata": {},
          "execution_count": 92
        }
      ]
    },
    {
      "cell_type": "code",
      "source": [
        "y_test"
      ],
      "metadata": {
        "id": "w3cDv_gYfJwx",
        "colab": {
          "base_uri": "https://localhost:8080/"
        },
        "outputId": "3c5dad4a-5268-4359-e958-d5abc75367cf"
      },
      "execution_count": 93,
      "outputs": [
        {
          "output_type": "execute_result",
          "data": {
            "text/plain": [
              "array([ True,  True,  True,  True,  True,  True, False, False,  True,\n",
              "        True,  True,  True,  True,  True,  True,  True,  True,  True,\n",
              "        True,  True,  True, False,  True,  True,  True, False,  True,\n",
              "        True,  True,  True,  True,  True,  True,  True,  True, False,\n",
              "        True,  True,  True,  True,  True,  True,  True,  True,  True,\n",
              "       False,  True,  True,  True,  True,  True,  True,  True,  True,\n",
              "        True,  True,  True,  True,  True,  True,  True,  True,  True,\n",
              "        True,  True,  True, False,  True,  True,  True,  True, False])"
            ]
          },
          "metadata": {},
          "execution_count": 93
        }
      ]
    },
    {
      "cell_type": "code",
      "source": [
        "from sklearn.naive_bayes import GaussianNB\n",
        "classifier = GaussianNB()\n",
        "classifier.fit(X_train, y_train)"
      ],
      "metadata": {
        "colab": {
          "base_uri": "https://localhost:8080/",
          "height": 74
        },
        "id": "MEUFEOXujYU5",
        "outputId": "64af37e8-ff7d-4993-a97e-3f7c1f297233"
      },
      "execution_count": 95,
      "outputs": [
        {
          "output_type": "execute_result",
          "data": {
            "text/plain": [
              "GaussianNB()"
            ],
            "text/html": [
              "<style>#sk-container-id-3 {color: black;background-color: white;}#sk-container-id-3 pre{padding: 0;}#sk-container-id-3 div.sk-toggleable {background-color: white;}#sk-container-id-3 label.sk-toggleable__label {cursor: pointer;display: block;width: 100%;margin-bottom: 0;padding: 0.3em;box-sizing: border-box;text-align: center;}#sk-container-id-3 label.sk-toggleable__label-arrow:before {content: \"▸\";float: left;margin-right: 0.25em;color: #696969;}#sk-container-id-3 label.sk-toggleable__label-arrow:hover:before {color: black;}#sk-container-id-3 div.sk-estimator:hover label.sk-toggleable__label-arrow:before {color: black;}#sk-container-id-3 div.sk-toggleable__content {max-height: 0;max-width: 0;overflow: hidden;text-align: left;background-color: #f0f8ff;}#sk-container-id-3 div.sk-toggleable__content pre {margin: 0.2em;color: black;border-radius: 0.25em;background-color: #f0f8ff;}#sk-container-id-3 input.sk-toggleable__control:checked~div.sk-toggleable__content {max-height: 200px;max-width: 100%;overflow: auto;}#sk-container-id-3 input.sk-toggleable__control:checked~label.sk-toggleable__label-arrow:before {content: \"▾\";}#sk-container-id-3 div.sk-estimator input.sk-toggleable__control:checked~label.sk-toggleable__label {background-color: #d4ebff;}#sk-container-id-3 div.sk-label input.sk-toggleable__control:checked~label.sk-toggleable__label {background-color: #d4ebff;}#sk-container-id-3 input.sk-hidden--visually {border: 0;clip: rect(1px 1px 1px 1px);clip: rect(1px, 1px, 1px, 1px);height: 1px;margin: -1px;overflow: hidden;padding: 0;position: absolute;width: 1px;}#sk-container-id-3 div.sk-estimator {font-family: monospace;background-color: #f0f8ff;border: 1px dotted black;border-radius: 0.25em;box-sizing: border-box;margin-bottom: 0.5em;}#sk-container-id-3 div.sk-estimator:hover {background-color: #d4ebff;}#sk-container-id-3 div.sk-parallel-item::after {content: \"\";width: 100%;border-bottom: 1px solid gray;flex-grow: 1;}#sk-container-id-3 div.sk-label:hover label.sk-toggleable__label {background-color: #d4ebff;}#sk-container-id-3 div.sk-serial::before {content: \"\";position: absolute;border-left: 1px solid gray;box-sizing: border-box;top: 0;bottom: 0;left: 50%;z-index: 0;}#sk-container-id-3 div.sk-serial {display: flex;flex-direction: column;align-items: center;background-color: white;padding-right: 0.2em;padding-left: 0.2em;position: relative;}#sk-container-id-3 div.sk-item {position: relative;z-index: 1;}#sk-container-id-3 div.sk-parallel {display: flex;align-items: stretch;justify-content: center;background-color: white;position: relative;}#sk-container-id-3 div.sk-item::before, #sk-container-id-3 div.sk-parallel-item::before {content: \"\";position: absolute;border-left: 1px solid gray;box-sizing: border-box;top: 0;bottom: 0;left: 50%;z-index: -1;}#sk-container-id-3 div.sk-parallel-item {display: flex;flex-direction: column;z-index: 1;position: relative;background-color: white;}#sk-container-id-3 div.sk-parallel-item:first-child::after {align-self: flex-end;width: 50%;}#sk-container-id-3 div.sk-parallel-item:last-child::after {align-self: flex-start;width: 50%;}#sk-container-id-3 div.sk-parallel-item:only-child::after {width: 0;}#sk-container-id-3 div.sk-dashed-wrapped {border: 1px dashed gray;margin: 0 0.4em 0.5em 0.4em;box-sizing: border-box;padding-bottom: 0.4em;background-color: white;}#sk-container-id-3 div.sk-label label {font-family: monospace;font-weight: bold;display: inline-block;line-height: 1.2em;}#sk-container-id-3 div.sk-label-container {text-align: center;}#sk-container-id-3 div.sk-container {/* jupyter's `normalize.less` sets `[hidden] { display: none; }` but bootstrap.min.css set `[hidden] { display: none !important; }` so we also need the `!important` here to be able to override the default hidden behavior on the sphinx rendered scikit-learn.org. See: https://github.com/scikit-learn/scikit-learn/issues/21755 */display: inline-block !important;position: relative;}#sk-container-id-3 div.sk-text-repr-fallback {display: none;}</style><div id=\"sk-container-id-3\" class=\"sk-top-container\"><div class=\"sk-text-repr-fallback\"><pre>GaussianNB()</pre><b>In a Jupyter environment, please rerun this cell to show the HTML representation or trust the notebook. <br />On GitHub, the HTML representation is unable to render, please try loading this page with nbviewer.org.</b></div><div class=\"sk-container\" hidden><div class=\"sk-item\"><div class=\"sk-estimator sk-toggleable\"><input class=\"sk-toggleable__control sk-hidden--visually\" id=\"sk-estimator-id-3\" type=\"checkbox\" checked><label for=\"sk-estimator-id-3\" class=\"sk-toggleable__label sk-toggleable__label-arrow\">GaussianNB</label><div class=\"sk-toggleable__content\"><pre>GaussianNB()</pre></div></div></div></div></div>"
            ]
          },
          "metadata": {},
          "execution_count": 95
        }
      ]
    },
    {
      "cell_type": "code",
      "source": [
        "y_pred = classifier.predict(X_test)"
      ],
      "metadata": {
        "id": "xuDYfWavRgU3"
      },
      "execution_count": 96,
      "outputs": []
    },
    {
      "cell_type": "code",
      "source": [
        "y_pred"
      ],
      "metadata": {
        "colab": {
          "base_uri": "https://localhost:8080/"
        },
        "id": "IfTvzElFR1n1",
        "outputId": "50a51365-5614-444c-ef0c-f90eaf5f7461"
      },
      "execution_count": 97,
      "outputs": [
        {
          "output_type": "execute_result",
          "data": {
            "text/plain": [
              "array([ True,  True,  True,  True,  True,  True,  True, False,  True,\n",
              "        True,  True,  True,  True,  True,  True,  True,  True,  True,\n",
              "        True,  True,  True, False,  True,  True,  True,  True,  True,\n",
              "        True,  True, False,  True,  True,  True,  True,  True, False,\n",
              "        True,  True,  True,  True,  True,  True,  True,  True,  True,\n",
              "        True,  True, False,  True,  True,  True, False,  True,  True,\n",
              "        True,  True,  True,  True,  True,  True,  True,  True,  True,\n",
              "        True,  True,  True, False,  True,  True,  True,  True,  True])"
            ]
          },
          "metadata": {},
          "execution_count": 97
        }
      ]
    },
    {
      "cell_type": "code",
      "source": [
        "y_test"
      ],
      "metadata": {
        "colab": {
          "base_uri": "https://localhost:8080/"
        },
        "id": "uHsQ_2uISCFU",
        "outputId": "5710a6ca-24d0-4430-ab66-6894653248fa"
      },
      "execution_count": 98,
      "outputs": [
        {
          "output_type": "execute_result",
          "data": {
            "text/plain": [
              "array([ True,  True,  True,  True,  True,  True, False, False,  True,\n",
              "        True,  True,  True,  True,  True,  True,  True,  True,  True,\n",
              "        True,  True,  True, False,  True,  True,  True, False,  True,\n",
              "        True,  True,  True,  True,  True,  True,  True,  True, False,\n",
              "        True,  True,  True,  True,  True,  True,  True,  True,  True,\n",
              "       False,  True,  True,  True,  True,  True,  True,  True,  True,\n",
              "        True,  True,  True,  True,  True,  True,  True,  True,  True,\n",
              "        True,  True,  True, False,  True,  True,  True,  True, False])"
            ]
          },
          "metadata": {},
          "execution_count": 98
        }
      ]
    },
    {
      "cell_type": "code",
      "source": [
        "from sklearn.metrics import confusion_matrix\n",
        "cm = confusion_matrix(y_test, y_pred)\n",
        "print(cm)"
      ],
      "metadata": {
        "colab": {
          "base_uri": "https://localhost:8080/"
        },
        "id": "T9F1q3rzSKQT",
        "outputId": "962504fa-ae6f-40f1-f666-1d0eb2a26e24"
      },
      "execution_count": 99,
      "outputs": [
        {
          "output_type": "stream",
          "name": "stdout",
          "text": [
            "[[ 4  4]\n",
            " [ 3 61]]\n"
          ]
        }
      ]
    },
    {
      "cell_type": "code",
      "source": [
        "import seaborn as sns\n",
        "import matplotlib.pyplot as plt\n",
        "f, ax = plt.subplots(figsize=(8,5))\n",
        "sns.heatmap(confusion_matrix(y_test, y_pred), annot=True, fmt=\".0f\", ax=ax)\n",
        "plt.xlabel(\"y_pred\")\n",
        "plt.ylabel(\"y_true\")\n",
        "plt.show()"
      ],
      "metadata": {
        "colab": {
          "base_uri": "https://localhost:8080/",
          "height": 465
        },
        "id": "p0Sn7I0nSRh0",
        "outputId": "27b62eb9-7bf9-493c-8b80-054904050209"
      },
      "execution_count": 100,
      "outputs": [
        {
          "output_type": "display_data",
          "data": {
            "text/plain": [
              "<Figure size 800x500 with 2 Axes>"
            ],
            "image/png": "[encoded data removed]"
          },
          "metadata": {}
        }
      ]
    },
    {
      "cell_type": "code",
      "source": [
        "from sklearn.metrics import classification_report\n",
        "print (classification_report(y_test, y_pred))"
      ],
      "metadata": {
        "colab": {
          "base_uri": "https://localhost:8080/"
        },
        "id": "kEtwnvmNSWl8",
        "outputId": "e4df9dc2-b50f-4b9a-cd3a-603a5b25402c"
      },
      "execution_count": 101,
      "outputs": [
        {
          "output_type": "stream",
          "name": "stdout",
          "text": [
            "              precision    recall  f1-score   support\n",
            "\n",
            "       False       0.57      0.50      0.53         8\n",
            "        True       0.94      0.95      0.95        64\n",
            "\n",
            "    accuracy                           0.90        72\n",
            "   macro avg       0.75      0.73      0.74        72\n",
            "weighted avg       0.90      0.90      0.90        72\n",
            "\n"
          ]
        }
      ]
    },
    {
      "cell_type": "code",
      "source": [
        "from matplotlib.colors import ListedColormap\n",
        "X_set, y_set = X_train, y_train\n",
        "X1, X2 = np.meshgrid(np.arange(start = X_set[:, 0].min() - 1, stop = X_set[:, 0].max() + 1, step = 0.01),\n",
        "                     np.arange(start = X_set[:, 1].min() - 1, stop = X_set[:, 1].max() + 1, step = 0.01))\n",
        "plt.contourf(X1, X2, classifier.predict(np.array([X1.ravel(), X2.ravel()]).T).reshape(X1.shape),\n",
        "             alpha = 0.75, cmap = ListedColormap(('red', 'green')))\n",
        "plt.xlim(X1.min(), X1.max())\n",
        "plt.ylim(X2.min(), X2.max())\n",
        "for i, j in enumerate(np.unique(y_set)):\n",
        "    plt.scatter(X_set[y_set == j, 0], X_set[y_set == j, 1],\n",
        "                c = ListedColormap(('red', 'green'))(i), label = j)\n",
        "plt.title('Naive Bayes (Training set)')\n",
        "plt.xlabel('Age')\n",
        "plt.ylabel('Estimated Salary')\n",
        "plt.legend()\n",
        "plt.show()"
      ],
      "metadata": {
        "colab": {
          "base_uri": "https://localhost:8080/",
          "height": 527
        },
        "id": "oMRfPnaFSbfm",
        "outputId": "bd977161-9fc3-48d9-d009-18416166caa3"
      },
      "execution_count": 104,
      "outputs": [
        {
          "output_type": "stream",
          "name": "stderr",
          "text": [
            "<ipython-input-104-d7d0aff4f93e>:10: UserWarning: *c* argument looks like a single numeric RGB or RGBA sequence, which should be avoided as value-mapping will have precedence in case its length matches with *x* & *y*.  Please use the *color* keyword-argument or provide a 2D array with a single row if you intend to specify the same RGB or RGBA value for all points.\n",
            "  plt.scatter(X_set[y_set == j, 0], X_set[y_set == j, 1],\n"
          ]
        },
        {
          "output_type": "display_data",
          "data": {
            "text/plain": [
              "<Figure size 640x480 with 1 Axes>"
            ],
            "image/png": "[encoded data removed]"
          },
          "metadata": {}
        }
      ]
    },
    {
      "cell_type": "code",
      "source": [
        "from matplotlib.colors import ListedColormap\n",
        "X_set, y_set = X_test, y_test\n",
        "X1, X2 = np.meshgrid(np.arange(start = X_set[:, 0].min() - 1, stop = X_set[:, 0].max() + 1, step = 0.01),\n",
        "                     np.arange(start = X_set[:, 1].min() - 1, stop = X_set[:, 1].max() + 1, step = 0.01))\n",
        "plt.contourf(X1, X2, classifier.predict(np.array([X1.ravel(), X2.ravel()]).T).reshape(X1.shape),\n",
        "             alpha = 0.75, cmap = ListedColormap(('red', 'green')))\n",
        "plt.xlim(X1.min(), X1.max())\n",
        "plt.ylim(X2.min(), X2.max())\n",
        "for i, j in enumerate(np.unique(y_set)):\n",
        "    plt.scatter(X_set[y_set == j, 0], X_set[y_set == j, 1],\n",
        "                c = ListedColormap(('red', 'green'))(i), label = j)\n",
        "plt.title('Naive Bayes (Test set)')\n",
        "plt.xlabel('Age')\n",
        "plt.ylabel('Estimated Salary')\n",
        "plt.legend()\n",
        "plt.show()\n"
      ],
      "metadata": {
        "colab": {
          "base_uri": "https://localhost:8080/",
          "height": 527
        },
        "id": "C6QrYGodS18E",
        "outputId": "f10999ca-8f22-476c-99c9-69d738695fc0"
      },
      "execution_count": 105,
      "outputs": [
        {
          "output_type": "stream",
          "name": "stderr",
          "text": [
            "<ipython-input-105-f49f6daa79b6>:10: UserWarning: *c* argument looks like a single numeric RGB or RGBA sequence, which should be avoided as value-mapping will have precedence in case its length matches with *x* & *y*.  Please use the *color* keyword-argument or provide a 2D array with a single row if you intend to specify the same RGB or RGBA value for all points.\n",
            "  plt.scatter(X_set[y_set == j, 0], X_set[y_set == j, 1],\n"
          ]
        },
        {
          "output_type": "display_data",
          "data": {
            "text/plain": [
              "<Figure size 640x480 with 1 Axes>"
            ],
            "image/png": "[encoded data removed]"
          },
          "metadata": {}
        }
      ]
    }
  ]
}